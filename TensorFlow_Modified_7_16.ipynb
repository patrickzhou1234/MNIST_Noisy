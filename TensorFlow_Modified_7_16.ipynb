{
  "cells": [
    {
      "cell_type": "markdown",
      "metadata": {
        "id": "xLOXFOT5Q40E"
      },
      "source": [
        "##### Copyright 2020 The TensorFlow Authors."
      ]
    },
    {
      "cell_type": "code",
      "execution_count": null,
      "metadata": {
        "cellView": "form",
        "id": "iiQkM5ZgQ8r2"
      },
      "outputs": [],
      "source": [
        "#@title Licensed under the Apache License, Version 2.0 (the \"License\");\n",
        "# you may not use this file except in compliance with the License.\n",
        "# You may obtain a copy of the License at\n",
        "#\n",
        "# https://www.apache.org/licenses/LICENSE-2.0\n",
        "#\n",
        "# Unless required by applicable law or agreed to in writing, software\n",
        "# distributed under the License is distributed on an \"AS IS\" BASIS,\n",
        "# WITHOUT WARRANTIES OR CONDITIONS OF ANY KIND, either express or implied.\n",
        "# See the License for the specific language governing permissions and\n",
        "# limitations under the License."
      ]
    },
    {
      "cell_type": "markdown",
      "metadata": {
        "id": "j6331ZSsQGY3"
      },
      "source": [
        "# MNIST classification"
      ]
    },
    {
      "cell_type": "markdown",
      "metadata": {
        "id": "i9Jcnb8bQQyd"
      },
      "source": [
        "<table class=\"tfo-notebook-buttons\" align=\"left\">\n",
        "  <td>\n",
        "    <a target=\"_blank\" href=\"https://www.tensorflow.org/quantum/tutorials/mnist\"><img src=\"https://www.tensorflow.org/images/tf_logo_32px.png\" />View on TensorFlow.org</a>\n",
        "  </td>\n",
        "  <td>\n",
        "    <a target=\"_blank\" href=\"https://colab.research.google.com/github/tensorflow/quantum/blob/master/docs/tutorials/mnist.ipynb\"><img src=\"https://www.tensorflow.org/images/colab_logo_32px.png\" />Run in Google Colab</a>\n",
        "  </td>\n",
        "  <td>\n",
        "    <a target=\"_blank\" href=\"https://github.com/tensorflow/quantum/blob/master/docs/tutorials/mnist.ipynb\"><img src=\"https://www.tensorflow.org/images/GitHub-Mark-32px.png\" />View source on GitHub</a>\n",
        "  </td>\n",
        "  <td>\n",
        "    <a href=\"https://storage.googleapis.com/tensorflow_docs/quantum/docs/tutorials/mnist.ipynb\"><img src=\"https://www.tensorflow.org/images/download_logo_32px.png\" />Download notebook</a>\n",
        "  </td>\n",
        "</table>"
      ]
    },
    {
      "cell_type": "markdown",
      "metadata": {
        "id": "udLObUVeGfTs"
      },
      "source": [
        "This tutorial builds a quantum neural network (QNN) to classify a simplified version of MNIST, similar to the approach used in <a href=\"https://arxiv.org/pdf/1802.06002.pdf\" class=\"external\">Farhi et al</a>. The performance of the quantum neural network on this classical data problem is compared with a classical neural network."
      ]
    },
    {
      "cell_type": "markdown",
      "metadata": {
        "id": "X35qHdh5Gzqg"
      },
      "source": [
        "## Setup"
      ]
    },
    {
      "cell_type": "code",
      "execution_count": null,
      "metadata": {
        "id": "TorxE5tnkvb2"
      },
      "outputs": [],
      "source": [
        "!pip install tensorflow==2.15.0"
      ]
    },
    {
      "cell_type": "markdown",
      "metadata": {
        "id": "FxkQA6oblNqI"
      },
      "source": [
        "Install TensorFlow Quantum:"
      ]
    },
    {
      "cell_type": "code",
      "execution_count": null,
      "metadata": {
        "id": "saFHsRDpkvkH"
      },
      "outputs": [],
      "source": [
        "!pip install tensorflow-quantum==0.7.3"
      ]
    },
    {
      "cell_type": "code",
      "execution_count": null,
      "metadata": {
        "id": "4Ql5PW-ACO0J"
      },
      "outputs": [],
      "source": [
        "# Update package resources to account for version changes.\n",
        "import importlib, pkg_resources\n",
        "\n",
        "importlib.reload(pkg_resources)"
      ]
    },
    {
      "cell_type": "markdown",
      "metadata": {
        "id": "hdgMMZEBGqyl"
      },
      "source": [
        "Now import TensorFlow and the module dependencies:"
      ]
    },
    {
      "cell_type": "code",
      "execution_count": null,
      "metadata": {
        "id": "enZ300Bflq80"
      },
      "outputs": [],
      "source": [
        "import tensorflow as tf\n",
        "\n",
        "# 1) Make GPU memory growth dynamic\n",
        "gpus = tf.config.list_physical_devices('GPU')\n",
        "if gpus:\n",
        "    for gpu in gpus:\n",
        "        tf.config.experimental.set_memory_growth(gpu, True)\n",
        "    print(f\"{len(gpus)} GPU(s) detected; memory growth enabled.\")\n",
        "\n",
        "# 2) Enable XLA JIT for operation fusion\n",
        "tf.config.optimizer.set_jit(True)\n",
        "print(\"XLA JIT enabled.\")\n",
        "\n",
        "# 3) Disable mixed precision for TFQ compatibility\n",
        "# (we’ll stay in float32 so TFQ’s tf.cond branches agree)\n",
        "from tensorflow.keras import mixed_precision\n",
        "mixed_precision.set_global_policy('float32')\n",
        "print(\"Mixed-precision policy:\", mixed_precision.global_policy())\n",
        "\n",
        "import tensorflow_quantum as tfq\n",
        "\n",
        "import cirq\n",
        "import sympy\n",
        "import numpy as np\n",
        "import seaborn as sns\n",
        "import collections\n",
        "\n",
        "# visualization tools\n",
        "%matplotlib inline\n",
        "import matplotlib.pyplot as plt\n",
        "from cirq.contrib.svg import SVGCircuit"
      ]
    },
    {
      "cell_type": "markdown",
      "metadata": {
        "id": "b08Mmbs8lr81"
      },
      "source": [
        "## 1. Load the data\n",
        "\n",
        "In this tutorial you will build a binary classifier to distinguish between the digits 3 and 6, following <a href=\"https://arxiv.org/pdf/1802.06002.pdf\" class=\"external\">Farhi et al.</a> This section covers the data handling that:\n",
        "\n",
        "- Loads the raw data from Keras.\n",
        "- Filters the dataset to only 3s and 6s.\n",
        "- Downscales the images so they fit can fit in a quantum computer.\n",
        "- Removes any contradictory examples.\n",
        "- Converts the binary images to Cirq circuits.\n",
        "- Converts the Cirq circuits to TensorFlow Quantum circuits."
      ]
    },
    {
      "cell_type": "markdown",
      "metadata": {
        "id": "pDUdGxn-ojgy"
      },
      "source": [
        "### 1.1 Load the raw data"
      ]
    },
    {
      "cell_type": "markdown",
      "source": [],
      "metadata": {
        "id": "sFnBOogtMA6t"
      }
    },
    {
      "cell_type": "markdown",
      "metadata": {
        "id": "xZyGXlaKojgz"
      },
      "source": [
        "Load the MNIST dataset distributed with Keras."
      ]
    },
    {
      "cell_type": "code",
      "execution_count": null,
      "metadata": {
        "id": "d9OSExvCojg0"
      },
      "outputs": [],
      "source": [
        "# 1) Load the clean MNIST training set as before, ignore Keras’s test split\n",
        "(x_train, y_train), _ = tf.keras.datasets.mnist.load_data()\n",
        "\n",
        "# 2) Load your AWGN-corrupted MNIST test set from the .mat file\n",
        "import scipy.io as sio\n",
        "mat = sio.loadmat('mnist-with-awgn.mat')\n",
        "\n",
        "# 3) (Optional) inspect the variable names so you pick the right keys:\n",
        "print(mat.keys())\n",
        "# → e.g. dict_keys(['__header__', '__version__', '__globals__',\n",
        "#                    'X_test', 'Y_test'])\n",
        "\n",
        "# 4) Assign using the actual keys in your .mat\n",
        "x_test = mat['test_x'].reshape(-1, 28, 28)\n",
        "y_test = mat['test_y'].argmax(axis=1)  # ← replace 'Y_test' if your key is different\n",
        "\n",
        "# 5) Rescale exactly as before (now applies to your noisy test set)\n",
        "x_train, x_test = (\n",
        "    x_train[..., np.newaxis] / 255.0,\n",
        "    x_test[..., np.newaxis] / 255.0\n",
        ")\n",
        "\n",
        "print(\"Number of original training examples:\", len(x_train))\n",
        "print(\"Number of noisy  test   examples:\", len(x_test))"
      ]
    },
    {
      "cell_type": "markdown",
      "metadata": {
        "id": "fZpbygdGojg3"
      },
      "source": [
        "Filter the dataset to keep just the 3s and 6s,  remove the other classes. At the same time convert the label, `y`, to boolean: `True` for `3` and `False` for 6."
      ]
    },
    {
      "cell_type": "code",
      "execution_count": null,
      "metadata": {
        "id": "hOw68cCZojg4"
      },
      "outputs": [],
      "source": [
        "# def filter_36(x, y):\n",
        "#     keep = (y == 3) | (y == 6)\n",
        "#     x, y = x[keep], y[keep]\n",
        "#     y = y == 3\n",
        "#     return x, y"
      ]
    },
    {
      "cell_type": "code",
      "execution_count": null,
      "metadata": {
        "id": "p-XEU8egGL6q"
      },
      "outputs": [],
      "source": [
        "# No longer filtering to 3 vs 6 – use full MNIST 0–9\n",
        "print(\"Number of training examples:\", len(x_train))\n",
        "print(\"Number of test     examples:\", len(x_test))\n"
      ]
    },
    {
      "cell_type": "markdown",
      "metadata": {
        "id": "3wyiaP0Xojg_"
      },
      "source": [
        "Show the first example:"
      ]
    },
    {
      "cell_type": "code",
      "execution_count": null,
      "metadata": {
        "id": "j5STP7MbojhA"
      },
      "outputs": [],
      "source": [
        "print(y_train[0])\n",
        "\n",
        "plt.imshow(x_train[0, :, :, 0])\n",
        "plt.colorbar()"
      ]
    },
    {
      "cell_type": "markdown",
      "metadata": {
        "id": "wNS9sVPQojhC"
      },
      "source": [
        "### 1.2 Downscale the images"
      ]
    },
    {
      "cell_type": "markdown",
      "metadata": {
        "id": "fmmtplIFGL6t"
      },
      "source": [
        "An image size of 28x28 is much too large for current quantum computers. Resize the image down to 4x4:"
      ]
    },
    {
      "cell_type": "code",
      "execution_count": null,
      "metadata": {
        "id": "lbhUdBFWojhE",
        "scrolled": false
      },
      "outputs": [],
      "source": [
        "x_train_small = tf.image.resize(x_train, (4, 4)).numpy()\n",
        "x_test_small = tf.image.resize(x_test, (4, 4)).numpy()"
      ]
    },
    {
      "cell_type": "markdown",
      "metadata": {
        "id": "pOMd7zIjGL6x"
      },
      "source": [
        "Again, display the first training example—after resize:"
      ]
    },
    {
      "cell_type": "code",
      "execution_count": null,
      "metadata": {
        "id": "YIYOtCRIGL6y",
        "scrolled": true
      },
      "outputs": [],
      "source": [
        "print(y_train[0])\n",
        "\n",
        "plt.imshow(x_train_small[0, :, :, 0], vmin=0, vmax=1)\n",
        "plt.colorbar()"
      ]
    },
    {
      "cell_type": "markdown",
      "metadata": {
        "id": "gGeF1_qtojhK"
      },
      "source": [
        "### 1.3 Remove contradictory examples"
      ]
    },
    {
      "cell_type": "markdown",
      "metadata": {
        "id": "7ZLkq2yeojhL"
      },
      "source": [
        "From section *3.3 Learning to Distinguish Digits* of <a href=\"https://arxiv.org/pdf/1802.06002.pdf\" class=\"external\">Farhi et al.</a>, filter the dataset to remove images that are labeled as belonging to both classes.\n",
        "\n",
        "This is not a standard machine-learning procedure, but is included in the interest of following the paper."
      ]
    },
    {
      "cell_type": "code",
      "execution_count": null,
      "metadata": {
        "id": "LqOPW0C7ojhL"
      },
      "outputs": [],
      "source": [
        "def remove_contradicting(xs, ys):\n",
        "    mapping = collections.defaultdict(set)\n",
        "    orig_x = {}\n",
        "    # Determine the set of labels for each unique image:\n",
        "    for x, y in zip(xs, ys):\n",
        "        orig_x[tuple(x.flatten())] = x\n",
        "        mapping[tuple(x.flatten())].add(y)\n",
        "\n",
        "    new_x = []\n",
        "    new_y = []\n",
        "    for flatten_x in mapping:\n",
        "        x = orig_x[flatten_x]\n",
        "        labels = mapping[flatten_x]\n",
        "        if len(labels) == 1:\n",
        "            new_x.append(x)\n",
        "            new_y.append(next(iter(labels)))\n",
        "        else:\n",
        "            # Throw out images that match more than one label.\n",
        "            pass\n",
        "\n",
        "    num_uniq_3 = sum(\n",
        "        1 for value in mapping.values() if len(value) == 1 and True in value)\n",
        "    num_uniq_6 = sum(\n",
        "        1 for value in mapping.values() if len(value) == 1 and False in value)\n",
        "    num_uniq_both = sum(1 for value in mapping.values() if len(value) == 2)\n",
        "\n",
        "    print(\"Number of unique images:\", len(mapping.values()))\n",
        "    print(\"Number of unique 3s: \", num_uniq_3)\n",
        "    print(\"Number of unique 6s: \", num_uniq_6)\n",
        "    print(\"Number of unique contradicting labels (both 3 and 6): \",\n",
        "          num_uniq_both)\n",
        "    print()\n",
        "    print(\"Initial number of images: \", len(xs))\n",
        "    print(\"Remaining non-contradicting unique images: \", len(new_x))\n",
        "\n",
        "    return np.array(new_x), np.array(new_y)"
      ]
    },
    {
      "cell_type": "markdown",
      "metadata": {
        "id": "VMOiJfz_ojhP"
      },
      "source": [
        "The resulting counts do not closely match the reported values, but the exact procedure is not specified.\n",
        "\n",
        "It is also worth noting here that applying filtering contradictory examples at this point does not totally prevent the model from receiving contradictory training examples: the next step binarizes the data which will cause more collisions."
      ]
    },
    {
      "cell_type": "code",
      "execution_count": null,
      "metadata": {
        "id": "zpnsAssWojhP",
        "scrolled": true
      },
      "outputs": [],
      "source": [
        "x_train_nocon, y_train_nocon = remove_contradicting(x_train_small, y_train)"
      ]
    },
    {
      "cell_type": "markdown",
      "metadata": {
        "id": "SlJ5NVaPojhT"
      },
      "source": [
        "### 1.4 Encode the data as quantum circuits\n",
        "\n",
        "To process images using a quantum computer, <a href=\"https://arxiv.org/pdf/1802.06002.pdf\" class=\"external\">Farhi et al.</a> proposed representing each pixel with a qubit, with the state depending on the value of the pixel. The first step is to convert to a binary encoding."
      ]
    },
    {
      "cell_type": "code",
      "execution_count": null,
      "metadata": {
        "id": "1z8J7OyDojhV"
      },
      "outputs": [],
      "source": [
        "THRESHOLD = 0.5\n",
        "\n",
        "x_train_bin = np.array(x_train_nocon > THRESHOLD, dtype=np.float32)\n",
        "x_test_bin = np.array(x_test_small > THRESHOLD, dtype=np.float32)"
      ]
    },
    {
      "cell_type": "markdown",
      "metadata": {
        "id": "SlJ5NVaPojhU"
      },
      "source": [
        "If you were to remove contradictory images at this point you would be left with only 193, likely not enough for effective training."
      ]
    },
    {
      "cell_type": "code",
      "execution_count": null,
      "metadata": {
        "id": "1z8J7OyDojhW"
      },
      "outputs": [],
      "source": [
        "_ = remove_contradicting(x_train_bin, y_train_nocon)"
      ]
    },
    {
      "cell_type": "markdown",
      "metadata": {
        "id": "oLyxS9KlojhZ"
      },
      "source": [
        "The qubits at pixel indices with values that exceed a threshold, are rotated through an $X$ gate."
      ]
    },
    {
      "cell_type": "code",
      "execution_count": null,
      "metadata": {
        "id": "aOu_3-3ZGL61"
      },
      "outputs": [],
      "source": [
        "def convert_to_circuit(image):\n",
        "    \"\"\"Encode truncated classical image into quantum datapoint.\"\"\"\n",
        "    values = np.ndarray.flatten(image)\n",
        "    qubits = cirq.GridQubit.rect(4, 4)\n",
        "    circuit = cirq.Circuit()\n",
        "    for i, value in enumerate(values):\n",
        "        if value:\n",
        "            circuit.append(cirq.X(qubits[i]))\n",
        "    return circuit\n",
        "\n",
        "\n",
        "x_train_circ = [convert_to_circuit(x) for x in x_train_bin]\n",
        "x_test_circ = [convert_to_circuit(x) for x in x_test_bin]"
      ]
    },
    {
      "cell_type": "markdown",
      "metadata": {
        "id": "zSCXqzOzojhd"
      },
      "source": [
        "Here is the circuit created for the first example (circuit diagrams do not show qubits with zero gates):"
      ]
    },
    {
      "cell_type": "code",
      "execution_count": null,
      "metadata": {
        "id": "w3POmUEUojhe",
        "scrolled": false
      },
      "outputs": [],
      "source": [
        "SVGCircuit(x_train_circ[0])"
      ]
    },
    {
      "cell_type": "markdown",
      "metadata": {
        "id": "AEQMxCcBojhg"
      },
      "source": [
        "Compare this circuit to the indices where the image value exceeds the threshold:"
      ]
    },
    {
      "cell_type": "code",
      "execution_count": null,
      "metadata": {
        "id": "TBIsiXdtojhh"
      },
      "outputs": [],
      "source": [
        "bin_img = x_train_bin[0, :, :, 0]\n",
        "indices = np.array(np.where(bin_img)).T\n",
        "indices"
      ]
    },
    {
      "cell_type": "markdown",
      "metadata": {
        "id": "mWZ24w1Oojhk"
      },
      "source": [
        "Convert these `Cirq` circuits to tensors for `tfq`:"
      ]
    },
    {
      "cell_type": "code",
      "execution_count": null,
      "metadata": {
        "id": "IZStEMk4ojhk"
      },
      "outputs": [],
      "source": [
        "x_train_tfcirc = tfq.convert_to_tensor(x_train_circ)\n",
        "x_test_tfcirc = tfq.convert_to_tensor(x_test_circ)"
      ]
    },
    {
      "cell_type": "markdown",
      "metadata": {
        "id": "4USiqeOqGL67"
      },
      "source": [
        "## 2. Quantum neural network\n",
        "\n",
        "There is little guidance for a quantum circuit structure that classifies images. Since the classification is based on the expectation of the readout qubit, <a href=\"https://arxiv.org/pdf/1802.06002.pdf\" class=\"external\">Farhi et al.</a> propose using two qubit gates, with the readout qubit always acted upon. This is similar in some ways to running small a <a href=\"https://arxiv.org/abs/1511.06464\" class=\"external\">Unitary RNN</a> across the pixels."
      ]
    },
    {
      "cell_type": "markdown",
      "metadata": {
        "id": "knIzawEeojho"
      },
      "source": [
        "### 2.1 Build the model circuit\n",
        "\n",
        "This following example shows this layered approach. Each layer uses *n* instances of the same gate, with each of the data qubits acting on the readout qubit.\n",
        "\n",
        "Start with a simple class that will add a layer of these gates to a circuit:"
      ]
    },
    {
      "cell_type": "code",
      "execution_count": null,
      "metadata": {
        "id": "-hjxxgU5ojho"
      },
      "outputs": [],
      "source": [
        "class CircuitLayerBuilder():\n",
        "\n",
        "    def __init__(self, data_qubits, readout):\n",
        "        self.data_qubits = data_qubits\n",
        "        self.readout = readout\n",
        "\n",
        "    def add_layer(self, circuit, gate, prefix):\n",
        "        for i, qubit in enumerate(self.data_qubits):\n",
        "            symbol = sympy.Symbol(prefix + '-' + str(i))\n",
        "            circuit.append(gate(qubit, self.readout)**symbol)"
      ]
    },
    {
      "cell_type": "markdown",
      "metadata": {
        "id": "Sjo5hANFojhr"
      },
      "source": [
        "Build an example circuit layer to see how it looks:"
      ]
    },
    {
      "cell_type": "code",
      "execution_count": null,
      "metadata": {
        "id": "SzXWOpUGojhs"
      },
      "outputs": [],
      "source": [
        "demo_builder = CircuitLayerBuilder(data_qubits=cirq.GridQubit.rect(4, 1),\n",
        "                                   readout=cirq.GridQubit(-1, -1))\n",
        "\n",
        "circuit = cirq.Circuit()\n",
        "demo_builder.add_layer(circuit, gate=cirq.XX, prefix='xx')\n",
        "SVGCircuit(circuit)"
      ]
    },
    {
      "cell_type": "markdown",
      "metadata": {
        "id": "T-QhPE1pojhu"
      },
      "source": [
        "Now build a two-layered model, matching the data-circuit size, and include the preparation and readout operations."
      ]
    },
    {
      "cell_type": "code",
      "execution_count": null,
      "metadata": {
        "id": "JiALbpwRGL69"
      },
      "outputs": [],
      "source": [
        "def create_quantum_model():\n",
        "    \"\"\"Create a QNN model circuit and readout operation to go along with it.\"\"\"\n",
        "    data_qubits = cirq.GridQubit.rect(4, 4)  # a 4x4 grid.\n",
        "    readout = cirq.GridQubit(-1, -1)  # a single qubit at [-1,-1]\n",
        "    circuit = cirq.Circuit()\n",
        "\n",
        "    # Prepare the readout qubit.\n",
        "    circuit.append(cirq.X(readout))\n",
        "    circuit.append(cirq.H(readout))\n",
        "\n",
        "    builder = CircuitLayerBuilder(data_qubits=data_qubits, readout=readout)\n",
        "\n",
        "    # Then add layers (experiment by adding more).\n",
        "    builder.add_layer(circuit, cirq.XX, \"xx1\")\n",
        "    builder.add_layer(circuit, cirq.ZZ, \"zz1\")\n",
        "\n",
        "    # Finally, prepare the readout qubit.\n",
        "    circuit.append(cirq.H(readout))\n",
        "\n",
        "    return circuit, cirq.Z(readout)"
      ]
    },
    {
      "cell_type": "code",
      "execution_count": null,
      "metadata": {
        "id": "2QZvVh7vojhx"
      },
      "outputs": [],
      "source": [
        "model_circuit, model_readout = create_quantum_model()"
      ]
    },
    {
      "cell_type": "markdown",
      "metadata": {
        "id": "LY7vbY6yfABE"
      },
      "source": [
        "### 2.2 Wrap the model-circuit in a tfq-keras model\n",
        "\n",
        "Build the Keras model with the quantum components. This model is fed the \"quantum data\", from `x_train_circ`, that encodes the classical data. It uses a *Parametrized Quantum Circuit* layer, `tfq.layers.PQC`, to train the model circuit, on the quantum data.\n",
        "\n",
        "To classify these images, <a href=\"https://arxiv.org/pdf/1802.06002.pdf\" class=\"external\">Farhi et al.</a> proposed taking the expectation of a readout qubit in a parameterized circuit. The expectation returns a value between 1 and -1."
      ]
    },
    {
      "cell_type": "code",
      "execution_count": null,
      "metadata": {
        "id": "ZYdf_KOxojh0"
      },
      "outputs": [],
      "source": [
        "# Build the Keras model.\n",
        "model = tf.keras.Sequential([\n",
        "    # The input is the data-circuit, encoded as a tf.string\n",
        "    tf.keras.layers.Input(shape=(), dtype=tf.string),\n",
        "    # The PQC layer returns the expected value of the readout gate, range [-1,1].\n",
        "    tfq.layers.PQC(model_circuit, model_readout),\n",
        "])"
      ]
    },
    {
      "cell_type": "markdown",
      "metadata": {
        "id": "jz-FbVc9ojh3"
      },
      "source": [
        "Next, describe the training procedure to the model, using the `compile` method.\n",
        "\n",
        "Since the the expected readout is in the range `[-1,1]`, optimizing the hinge loss is a somewhat natural fit.\n",
        "\n",
        "Note: Another valid approach would be to shift the output range to `[0,1]`, and treat it as the probability the model assigns to class `3`. This could be used with a standard a `tf.losses.BinaryCrossentropy` loss.\n",
        "\n",
        "To use the hinge loss here you need to make two small adjustments. First convert the labels, `y_train_nocon`, from boolean to `[-1,1]`, as expected by the hinge loss."
      ]
    },
    {
      "cell_type": "code",
      "execution_count": null,
      "metadata": {
        "id": "CgMNkC1Fojh5"
      },
      "outputs": [],
      "source": [
        "y_train_hinge = 2.0 * y_train_nocon - 1.0\n",
        "y_test_hinge = 2.0 * y_test - 1.0"
      ]
    },
    {
      "cell_type": "markdown",
      "metadata": {
        "id": "5nwnveDiojh7"
      },
      "source": [
        "Second, use a custiom `hinge_accuracy` metric that correctly handles `[-1, 1]` as the `y_true` labels argument.\n",
        "`tf.losses.BinaryAccuracy(threshold=0.0)` expects `y_true` to be a boolean, and so can't be used with hinge loss)."
      ]
    },
    {
      "cell_type": "code",
      "execution_count": null,
      "metadata": {
        "id": "3XKtZ_TEojh8"
      },
      "outputs": [],
      "source": [
        "def hinge_accuracy(y_true, y_pred):\n",
        "    y_true = tf.squeeze(y_true) > 0.0\n",
        "    y_pred = tf.squeeze(y_pred) > 0.0\n",
        "    result = tf.cast(y_true == y_pred, tf.float32)\n",
        "\n",
        "    return tf.reduce_mean(result)"
      ]
    },
    {
      "cell_type": "code",
      "execution_count": null,
      "metadata": {
        "id": "FlpETlLRojiA"
      },
      "outputs": [],
      "source": [
        "model.compile(loss=tf.keras.losses.Hinge(),\n",
        "              optimizer=tf.keras.optimizers.Adam(),\n",
        "              metrics=[hinge_accuracy, 'accuracy'])"
      ]
    },
    {
      "cell_type": "code",
      "execution_count": null,
      "metadata": {
        "id": "jkHq2RstojiC"
      },
      "outputs": [],
      "source": [
        "print(model.summary())"
      ]
    },
    {
      "cell_type": "markdown",
      "metadata": {
        "id": "lsuOzDYblA9s"
      },
      "source": [
        "### Train the quantum model\n",
        "\n",
        "Now train the model—this takes about 45 min. If you don't want to wait that long, use a small subset of the data (set `NUM_EXAMPLES=500`, below). This doesn't really affect the model's progress during training (it only has 32 parameters, and doesn't need much data to constrain these). Using fewer examples just ends training earlier (5min), but runs long enough to show that it is making progress in the validation logs."
      ]
    },
    {
      "cell_type": "code",
      "execution_count": null,
      "metadata": {
        "id": "n8vuQpSLlBV2"
      },
      "outputs": [],
      "source": [
        "EPOCHS = 10\n",
        "BATCH_SIZE = 32\n",
        "\n",
        "NUM_EXAMPLES = len(x_train_tfcirc)"
      ]
    },
    {
      "cell_type": "code",
      "execution_count": null,
      "metadata": {
        "id": "qJnNG-3JojiI"
      },
      "outputs": [],
      "source": [
        "x_train_tfcirc_sub = x_train_tfcirc[:NUM_EXAMPLES]\n",
        "y_train_hinge_sub = y_train_hinge[:NUM_EXAMPLES]"
      ]
    },
    {
      "cell_type": "code",
      "source": [
        "# 4) Build efficient tf.data pipelines for quantum data\n",
        "batch_size = 512   # bump up until you hit OOM for max throughput\n",
        "\n",
        "import tensorflow as tf\n",
        "\n",
        "train_ds = (\n",
        "    tf.data.Dataset\n",
        "      .from_tensor_slices((x_train_tfcirc_sub, y_train_hinge_sub))\n",
        "      .shuffle(buffer_size=10_000)\n",
        "      .batch(batch_size)\n",
        "      .cache()\n",
        "      .prefetch(tf.data.AUTOTUNE)\n",
        ")\n",
        "\n",
        "val_ds = (\n",
        "    tf.data.Dataset\n",
        "      .from_tensor_slices((x_test_tfcirc, y_test_hinge))\n",
        "      .batch(batch_size)\n",
        "      .cache()\n",
        "      .prefetch(tf.data.AUTOTUNE)\n",
        ")\n",
        "print(\"Training pipeline ready:\", train_ds, \"\\nValidation pipeline:\", val_ds)"
      ],
      "metadata": {
        "id": "qOp7MFFRnCFh"
      },
      "execution_count": null,
      "outputs": []
    },
    {
      "cell_type": "markdown",
      "metadata": {
        "id": "QMSdgGC1GL7D"
      },
      "source": [
        "Training this model to convergence should achieve >85% accuracy on the test set."
      ]
    },
    {
      "cell_type": "code",
      "execution_count": null,
      "metadata": {
        "id": "Ya9qP3KkojiM"
      },
      "outputs": [],
      "source": [
        "qnn_history = model.fit(\n",
        "    train_ds,\n",
        "    epochs=EPOCHS,\n",
        "    verbose=1,\n",
        "    validation_data=val_ds\n",
        ")\n",
        "\n",
        "# (optional) re-evaluate on raw arrays if you like\n",
        "qnn_results = model.evaluate(x_test_tfcirc, y_test)"
      ]
    },
    {
      "cell_type": "markdown",
      "metadata": {
        "id": "3ER7B7aaojiP"
      },
      "source": [
        "Note: The training accuracy reports the average over the epoch. The validation accuracy is evaluated at the end of each epoch."
      ]
    },
    {
      "cell_type": "markdown",
      "metadata": {
        "id": "8952YvuWGL7J"
      },
      "source": [
        "## 3. Classical neural network\n",
        "\n",
        "While the quantum neural network works for this simplified MNIST problem, a basic classical neural network can easily outperform a QNN on this task. After a single epoch, a classical neural network can achieve >98% accuracy on the holdout set.\n",
        "\n",
        "In the following example, a classical neural network is used for for the 3-6 classification problem using the entire 28x28 image instead of subsampling the image. This easily converges to nearly 100% accuracy of the test set."
      ]
    },
    {
      "cell_type": "code",
      "execution_count": null,
      "metadata": {
        "id": "pZofEHhLGL7L"
      },
      "outputs": [],
      "source": [
        "def create_classical_model():\n",
        "    # LeNet-style CNN for 10-class MNIST\n",
        "    model = tf.keras.Sequential([\n",
        "        tf.keras.layers.Conv2D(32, (3, 3), activation='relu',\n",
        "                               input_shape=(28, 28, 1)),\n",
        "        tf.keras.layers.Conv2D(64, (3, 3), activation='relu'),\n",
        "        tf.keras.layers.MaxPooling2D((2, 2)),\n",
        "        tf.keras.layers.Dropout(0.25),\n",
        "        tf.keras.layers.Flatten(),\n",
        "        tf.keras.layers.Dense(128, activation='relu'),\n",
        "        tf.keras.layers.Dropout(0.5),\n",
        "        tf.keras.layers.Dense(10, activation='softmax'),\n",
        "    ])\n",
        "    return model\n",
        "\n",
        "model = create_classical_model()\n",
        "model.compile(\n",
        "    loss=tf.keras.losses.SparseCategoricalCrossentropy(),\n",
        "    optimizer=tf.keras.optimizers.Adam(),\n",
        "    metrics=['accuracy']\n",
        ")\n",
        "model.summary()\n"
      ]
    },
    {
      "cell_type": "code",
      "execution_count": null,
      "metadata": {
        "id": "CiAJl7sZojiU"
      },
      "outputs": [],
      "source": [
        "fullcnn_history = model.fit(x_train,\n",
        "          y_train,\n",
        "          batch_size=128,\n",
        "          epochs=10,\n",
        "          verbose=1,\n",
        "          validation_data=(x_test, y_test))\n",
        "\n",
        "cnn_results = model.evaluate(x_test, y_test)"
      ]
    },
    {
      "cell_type": "markdown",
      "metadata": {
        "id": "X5-5BVJaojiZ"
      },
      "source": [
        "The above model has nearly 1.2M parameters. For a more fair comparison, try a 37-parameter model, on the subsampled images:"
      ]
    },
    {
      "cell_type": "code",
      "execution_count": null,
      "metadata": {
        "id": "70TOM6r-ojiZ",
        "scrolled": false
      },
      "outputs": [],
      "source": [
        "def create_fair_classical_model():\n",
        "    # A simple model based off LeNet from https://keras.io/examples/mnist_cnn/\n",
        "    model = tf.keras.Sequential()\n",
        "    model.add(tf.keras.layers.Flatten(input_shape=(4, 4, 1)))\n",
        "    model.add(tf.keras.layers.Dense(2, activation='relu'))\n",
        "    # → expand to 10‑way output\n",
        "    model.add(tf.keras.layers.Dense(10))\n",
        "    return model\n",
        "\n",
        "model = create_fair_classical_model()\n",
        "model.compile(\n",
        "    loss=tf.keras.losses.SparseCategoricalCrossentropy(from_logits=True),\n",
        "    optimizer=tf.keras.optimizers.Adam(),\n",
        "    metrics=['accuracy']\n",
        ")\n",
        "\n",
        "model.summary()"
      ]
    },
    {
      "cell_type": "code",
      "execution_count": null,
      "metadata": {
        "id": "lA_Fx-8gojid"
      },
      "outputs": [],
      "source": [
        "cnn_history = model.fit(\n",
        "    x_train_nocon,         # your 4×4 train images (0–9)\n",
        "    y_train_nocon,         # the matching digit labels 0–9\n",
        "    batch_size=128,\n",
        "    epochs=20,\n",
        "    verbose=2,\n",
        "    validation_data=(x_test_small, y_test)  # 4×4 test images & labels\n",
        ")\n",
        "\n",
        "fair_nn_results = model.evaluate(x_test_small, y_test)\n"
      ]
    },
    {
      "cell_type": "markdown",
      "metadata": {
        "id": "RH3mam7EGL7N"
      },
      "source": [
        "## 4. Comparison\n",
        "\n",
        "Higher resolution input and a more powerful model make this problem easy for the CNN. While a classical model of similar power (~32 parameters) trains to a similar accuracy in a fraction of the time. One way or the other, the classical neural network easily outperforms the quantum neural network. For classical data, it is difficult to beat a classical neural network."
      ]
    },
    {
      "cell_type": "code",
      "execution_count": null,
      "metadata": {
        "id": "NOMeN7pMGL7P"
      },
      "outputs": [],
      "source": [
        "qnn_accuracy = qnn_results[1]\n",
        "cnn_accuracy = cnn_results[1]\n",
        "fair_nn_accuracy = fair_nn_results[1]\n",
        "\n",
        "sns.barplot(x=[\"Quantum\", \"Classical, full\", \"Classical, fair\"],\n",
        "            y=[qnn_accuracy, cnn_accuracy, fair_nn_accuracy])"
      ]
    },
    {
      "cell_type": "code",
      "source": [
        "# 4) 3D Contour Map of Loss over Epoch & Accuracy\n",
        "import numpy as np\n",
        "import matplotlib.pyplot as plt\n",
        "from mpl_toolkits.mplot3d import Axes3D\n",
        "from scipy.interpolate import griddata\n",
        "\n",
        "history = qnn_history\n",
        "\n",
        "# pull your real metrics\n",
        "epochs   = np.arange(1, len(history.history['loss']) + 1)\n",
        "val_loss = np.array(history.history['val_loss'])\n",
        "loss     = np.array(history.history['loss'])\n",
        "\n",
        "# build a regular grid spanning your data range\n",
        "grid_x   = np.linspace(epochs.min(),    epochs.max(),    60)\n",
        "grid_y   = np.linspace(val_loss.min(),  val_loss.max(),  60)\n",
        "X, Y   = np.meshgrid(grid_x, grid_y)\n",
        "\n",
        "# interpolate the scattered (epoch, acc)→loss points onto that grid\n",
        "Z = griddata(\n",
        "    points=(epochs, val_loss),\n",
        "    values=loss,\n",
        "    xi=(X, Y),\n",
        "    method='cubic'      # try 'linear' if cubic is too slow or creates NaNs\n",
        ")\n",
        "\n",
        "# plot the contour\n",
        "fig = plt.figure(figsize=(8,6))\n",
        "ax  = fig.add_subplot(111, projection='3d')\n",
        "\n",
        "# … build X, Y, Z …\n",
        "\n",
        "ax.contour3D(X, Y, Z, 30, cmap='viridis')\n",
        "ax.set_xlabel('Epoch')\n",
        "ax.set_ylabel('Validation Loss')\n",
        "ax.set_zlabel('Loss', rotation=90, labelpad=20)\n",
        "ax.zaxis.set_label_coords(1.10, 0.5, 0)\n",
        "ax.set_title('3D Contour: Loss over Epoch & Accuracy')\n",
        "\n",
        "fig.subplots_adjust(left=0.1, right=0.85, bottom=0.1, top=0.9)\n",
        "plt.show()\n",
        "\n",
        "\n"
      ],
      "metadata": {
        "id": "hr1sh86ZwT0L"
      },
      "execution_count": null,
      "outputs": []
    },
    {
      "cell_type": "code",
      "source": [
        "import numpy as np\n",
        "import matplotlib.pyplot as plt\n",
        "\n",
        "# 1) Pull out your real metrics from qnn_history\n",
        "metrics    = qnn_history.history\n",
        "loss       = np.array(metrics['loss'])\n",
        "hinge_acc  = np.array(metrics['hinge_accuracy'])\n",
        "val_loss   = np.array(metrics.get('val_loss', loss))   # fall back to loss if you didn’t log val_loss\n",
        "\n",
        "# 2) Compute the “volcano” axes\n",
        "#    – X: log₂ fold‑change of hinge accuracy vs its mean\n",
        "#    – Y: −log₁₀ of normalized validation‑loss\n",
        "log2_fc         = np.log2(hinge_acc / hinge_acc.mean())\n",
        "norm_val_loss   = val_loss / val_loss.max()\n",
        "neg_log10_vloss = -np.log10(norm_val_loss + 1e-8)       # add tiny floor to avoid inf\n",
        "\n",
        "# 3) Color by epoch index\n",
        "epochs = np.arange(1, len(loss) + 1)\n",
        "\n",
        "# 4) Plot it\n",
        "plt.figure(figsize=(8,6))\n",
        "sc = plt.scatter(\n",
        "    log2_fc, neg_log10_vloss,\n",
        "    c=epochs, cmap='plasma',\n",
        "    s=80, edgecolors='k', linewidth=0.5, alpha=0.9\n",
        ")\n",
        "plt.colorbar(sc, label='Epoch')\n",
        "\n",
        "# 5) Guide‑lines at fold‑change ±1 and “p‑value” cutoff of 0.5\n",
        "plt.axvline(+1, linestyle='--', color='gray')\n",
        "plt.axvline(-1, linestyle='--', color='gray')\n",
        "plt.axhline(-np.log10(0.5), linestyle='--', color='gray')\n",
        "\n",
        "plt.xlabel('Log₂ Fold Change (Hinge Accuracy)')\n",
        "plt.ylabel('-Log₁₀ Normalized Val Loss')\n",
        "plt.title('Volcano Plot from qnn_history')\n",
        "plt.grid(alpha=0.3, linestyle='--')\n",
        "plt.tight_layout()\n",
        "plt.show()\n"
      ],
      "metadata": {
        "id": "pTdvyfFdaph4"
      },
      "execution_count": null,
      "outputs": []
    },
    {
      "cell_type": "code",
      "source": [
        "import numpy as np\n",
        "import matplotlib.pyplot as plt\n",
        "from scipy.interpolate import griddata\n",
        "\n",
        "# 1) Pull your real metrics\n",
        "metrics   = qnn_history.history\n",
        "epochs    = np.arange(1, len(metrics['loss']) + 1)\n",
        "val_loss  = np.array(metrics.get('val_loss', metrics['loss']))\n",
        "loss      = np.array(metrics['loss'])\n",
        "\n",
        "# 2) Build the regular grid\n",
        "grid_x = np.linspace(epochs.min(),    epochs.max(),    100)\n",
        "grid_y = np.linspace(val_loss.min(),  val_loss.max(),  100)\n",
        "X, Y   = np.meshgrid(grid_x, grid_y)\n",
        "\n",
        "# 3) Interpolate your scattered data onto that grid\n",
        "Z = griddata(\n",
        "    points=(epochs, val_loss),\n",
        "    values=loss,\n",
        "    xi=(X, Y),\n",
        "    method='cubic'    # or 'linear' if you prefer\n",
        ")\n",
        "\n",
        "# 4) Make a 2D contour plot\n",
        "plt.figure(figsize=(8,6))\n",
        "# filled contours\n",
        "cf = plt.contourf(X, Y, Z, levels=20, alpha=0.8)\n",
        "# contour lines\n",
        "c  = plt.contour( X, Y, Z, levels=10, colors='k', linewidths=0.5)\n",
        "plt.clabel(c, inline=True, fmt=\"%.2f\", fontsize=8)\n",
        "\n",
        "plt.xlabel('Epoch')\n",
        "plt.ylabel('Validation Loss')\n",
        "plt.title('Contour Plot of Loss over Epoch & Validation Loss')\n",
        "plt.colorbar(cf, label='Loss')\n",
        "plt.grid(alpha=0.3, linestyle='--')\n",
        "plt.tight_layout()\n",
        "plt.show()"
      ],
      "metadata": {
        "id": "3A9IsroV_NLv"
      },
      "execution_count": null,
      "outputs": []
    },
    {
      "cell_type": "code",
      "source": [
        "import numpy as np\n",
        "import matplotlib.pyplot as plt\n",
        "\n",
        "# pull your metrics\n",
        "m   = qnn_history.history\n",
        "epochs = np.arange(1, len(m['loss']) + 1)\n",
        "loss      = np.array(m['loss'])\n",
        "val_loss  = np.array(m.get('val_loss', loss))\n",
        "hinge_acc = np.array(m['hinge_accuracy'])\n",
        "val_acc   = np.array(m.get('val_accuracy', hinge_acc))\n",
        "\n",
        "# start the figure\n",
        "fig, ax1 = plt.subplots(figsize=(8,5))\n",
        "\n",
        "# left axis: Loss\n",
        "ax1.plot(epochs, loss,      label='Train Loss', color='tab:blue',   linewidth=2)\n",
        "ax1.plot(epochs, val_loss,  label='Val Loss',   color='tab:blue',   linestyle='--')\n",
        "ax1.set_xlabel('Epoch')\n",
        "ax1.set_ylabel('Loss')\n",
        "ax1.tick_params(axis='y', labelcolor='tab:blue')\n",
        "\n",
        "# twin axis for Accuracy\n",
        "ax2 = ax1.twinx()\n",
        "ax2.plot(epochs, hinge_acc, label='Train Hinge Acc', color='tab:orange', linewidth=2)\n",
        "ax2.plot(epochs, val_acc,   label='Val Hinge Acc',   color='tab:orange', linestyle='--')\n",
        "ax2.set_ylabel('Hinge Accuracy')\n",
        "ax2.tick_params(axis='y', labelcolor='tab:orange')\n",
        "\n",
        "# Legends\n",
        "lines1, labels1 = ax1.get_legend_handles_labels()\n",
        "lines2, labels2 = ax2.get_legend_handles_labels()\n",
        "ax1.legend(lines1 + lines2, labels1 + labels2, loc='center right')\n",
        "\n",
        "# highlight best hinge accuracy\n",
        "best_epoch = hinge_acc.argmax() + 1\n",
        "best_acc   = hinge_acc.max()\n",
        "ax2.scatter([best_epoch], [best_acc], s=100, edgecolors='k', zorder=5)\n",
        "ax2.annotate(f'Best @ {best_epoch}\\n{best_acc:.3f}',\n",
        "             xy=(best_epoch, best_acc),\n",
        "             xytext=(best_epoch+0.5, best_acc-0.05),\n",
        "             arrowprops=dict(arrowstyle='->', color='k'),\n",
        "             color='tab:orange')\n",
        "\n",
        "# styling\n",
        "ax1.grid(True, linestyle='--', alpha=0.3)\n",
        "plt.title('Training & Validation Loss / Hinge Accuracy vs Epoch')\n",
        "plt.tight_layout()\n",
        "plt.show()\n"
      ],
      "metadata": {
        "id": "sNLPkXl1Cs6h"
      },
      "execution_count": null,
      "outputs": []
    },
    {
      "cell_type": "code",
      "source": [
        "import numpy as np\n",
        "import matplotlib.pyplot as plt\n",
        "\n",
        "# 0) Pull your real metrics\n",
        "metrics    = qnn_history.history\n",
        "epochs     = np.arange(1, len(metrics['loss']) + 1)\n",
        "loss       = np.array(metrics['loss'])\n",
        "hinge_acc  = np.array(metrics['hinge_accuracy'])\n",
        "\n",
        "# 1) Loss Gradient over Epochs\n",
        "grad_loss = np.gradient(loss)\n",
        "plt.figure()\n",
        "plt.plot(epochs, grad_loss, marker='o')\n",
        "plt.xlabel('Epoch')\n",
        "plt.ylabel('d(Loss)/d(Epoch)')\n",
        "plt.title('Loss Gradient')\n",
        "plt.grid(True, linestyle='--', alpha=0.5)\n",
        "plt.show()\n",
        "\n",
        "# 2) Hinge Accuracy Gradient over Epochs\n",
        "grad_acc = np.gradient(hinge_acc)\n",
        "plt.figure()\n",
        "plt.plot(epochs, grad_acc, marker='o')\n",
        "plt.xlabel('Epoch')\n",
        "plt.ylabel('d(Hinge Accuracy)/d(Epoch)')\n",
        "plt.title('Hinge Accuracy Gradient')\n",
        "plt.grid(True, linestyle='--', alpha=0.5)\n",
        "plt.show()\n",
        "\n",
        "# 3) Hexbin: Loss vs. Hinge Accuracy\n",
        "plt.figure()\n",
        "hb = plt.hexbin(loss, hinge_acc, gridsize=20, mincnt=1)\n",
        "plt.xlabel('Loss')\n",
        "plt.ylabel('Hinge Accuracy')\n",
        "plt.title('Hexbin: Loss vs. Hinge Accuracy')\n",
        "plt.colorbar(hb, label='Count')\n",
        "plt.show()\n",
        "\n",
        "# 4) Phase Plot: Loss vs. Hinge Accuracy\n",
        "plt.figure()\n",
        "plt.plot(loss, hinge_acc, '-o')\n",
        "plt.xlabel('Loss')\n",
        "plt.ylabel('Hinge Accuracy')\n",
        "plt.title('Phase Plot: Loss vs. Hinge Accuracy')\n",
        "plt.grid(True, linestyle='--', alpha=0.5)\n",
        "plt.show()\n",
        "\n",
        "# 5) Stacked Area Chart: Normalized Loss & Hinge Accuracy\n",
        "# Normalize both series to [0,1]\n",
        "loss_norm = (loss - loss.min()) / (loss.max() - loss.min())\n",
        "acc_norm  = (hinge_acc - hinge_acc.min()) / (hinge_acc.max() - hinge_acc.min())\n",
        "\n",
        "plt.figure()\n",
        "plt.stackplot(epochs, loss_norm, acc_norm, labels=['Loss', 'Hinge Accuracy'])\n",
        "plt.xlabel('Epoch')\n",
        "plt.ylabel('Normalized Value')\n",
        "plt.title('Stacked Area: Loss & Hinge Accuracy over Epoch')\n",
        "plt.legend(loc='upper right')\n",
        "plt.grid(True, linestyle='--', alpha=0.3)\n",
        "plt.show()\n"
      ],
      "metadata": {
        "id": "i8ketqbrD13C"
      },
      "execution_count": null,
      "outputs": []
    },
    {
      "cell_type": "code",
      "source": [
        "import numpy as np\n",
        "import matplotlib.pyplot as plt\n",
        "\n",
        "# Collect only the keys you actually logged\n",
        "m       = qnn_history.history\n",
        "keys    = [k for k in ('loss','val_loss','accuracy','val_accuracy','hinge_accuracy') if k in m]\n",
        "data    = np.vstack([m[k] for k in keys])\n",
        "\n",
        "# Draw\n",
        "fig, ax = plt.subplots(figsize=(10,3))\n",
        "im = ax.imshow(\n",
        "    data,\n",
        "    aspect='auto',\n",
        "    cmap='magma',\n",
        "    interpolation='nearest'\n",
        ")\n",
        "ax.set_yticks(np.arange(len(keys)))\n",
        "ax.set_yticklabels(keys)\n",
        "ax.set_xticks(np.arange(len(data[0])))\n",
        "ax.set_xticklabels(np.arange(1, len(data[0]) + 1), rotation=90)\n",
        "ax.set_xlabel('Epoch')\n",
        "ax.set_title('Heatmap of Metrics per Epoch')\n",
        "cbar = plt.colorbar(im, ax=ax, pad=0.02)\n",
        "cbar.set_label('Metric Value', rotation=270, labelpad=15)\n",
        "plt.tight_layout()\n",
        "plt.show()\n"
      ],
      "metadata": {
        "id": "ltpZbq45I6GP"
      },
      "execution_count": null,
      "outputs": []
    },
    {
      "cell_type": "code",
      "source": [
        "import matplotlib.pyplot as plt\n",
        "\n",
        "# --- QNN accuracy & loss ---\n",
        "epochs = range(1, len(qnn_history.history['val_hinge_accuracy']) + 1)\n",
        "\n",
        "plt.figure(figsize=(6,4))\n",
        "plt.plot(epochs, qnn_history.history['val_hinge_accuracy'], marker='o')\n",
        "plt.title('QNN Accuracy (Testing)')\n",
        "plt.xlabel('Epoch')\n",
        "plt.ylabel('Testing Accuracy')\n",
        "plt.grid(True)\n",
        "plt.tight_layout()\n",
        "plt.show()\n",
        "\n",
        "plt.figure(figsize=(6,4))\n",
        "plt.plot(epochs, qnn_history.history['val_loss'], marker='o', color='C1')\n",
        "plt.title('QNN Loss (Testing)')\n",
        "plt.xlabel('Epoch')\n",
        "plt.ylabel('Testing Loss')\n",
        "plt.grid(True)\n",
        "plt.tight_layout()\n",
        "plt.show()\n",
        "\n",
        "\n",
        "# --- Fair CNN accuracy & loss ---\n",
        "epochs = range(1, len(cnn_history.history['val_accuracy']) + 1)\n",
        "\n",
        "plt.figure(figsize=(6,4))\n",
        "plt.plot(epochs, cnn_history.history['val_accuracy'], marker='o')\n",
        "plt.title('Fair CNN Accuracy (Testing)')\n",
        "plt.xlabel('Epoch')\n",
        "plt.ylabel('Testing Accuracy')\n",
        "plt.grid(True)\n",
        "plt.tight_layout()\n",
        "plt.show()\n",
        "\n",
        "plt.figure(figsize=(6,4))\n",
        "plt.plot(epochs, cnn_history.history['val_loss'], marker='o', color='C1')\n",
        "plt.title('Fair CNN Loss (Testing)')\n",
        "plt.xlabel('Epoch')\n",
        "plt.ylabel('Testing Loss')\n",
        "plt.grid(True)\n",
        "plt.tight_layout()\n",
        "plt.show()\n",
        "\n",
        "\n",
        "# --- Full CNN accuracy & loss ---\n",
        "epochs = range(1, len(fullcnn_history.history['val_accuracy']) + 1)\n",
        "\n",
        "plt.figure(figsize=(6,4))\n",
        "plt.plot(epochs, fullcnn_history.history['val_accuracy'], marker='o')\n",
        "plt.title('Full CNN Accuracy (Testing)')\n",
        "plt.xlabel('Epoch')\n",
        "plt.ylabel('Testing Accuracy')\n",
        "plt.grid(True)\n",
        "plt.tight_layout()\n",
        "plt.show()\n",
        "\n",
        "plt.figure(figsize=(6,4))\n",
        "plt.plot(epochs, fullcnn_history.history['val_loss'], marker='o', color='C1')\n",
        "plt.title('Full CNN Loss (Testing)')\n",
        "plt.xlabel('Epoch')\n",
        "plt.ylabel('Testing Loss')\n",
        "plt.grid(True)\n",
        "plt.tight_layout()\n",
        "plt.show()\n"
      ],
      "metadata": {
        "id": "xfqhf6UAy-nx"
      },
      "execution_count": null,
      "outputs": []
    },
    {
      "cell_type": "code",
      "source": [
        "import numpy as np\n",
        "import matplotlib.pyplot as plt\n",
        "\n",
        "# 1) Grab your model's weights exactly as before\n",
        "all_weights = model.get_weights()\n",
        "labels = []\n",
        "data   = []\n",
        "for idx, w in enumerate(all_weights):\n",
        "    layer   = idx // 2\n",
        "    ptype   = 'Kernel' if idx % 2 == 0 else 'Bias'\n",
        "    labels.append(f'Layer {layer} {ptype}')\n",
        "    data.append(w.flatten())\n",
        "\n",
        "# 2) Z‑score each distribution so they’re all comparable\n",
        "data_z = [(d - d.mean()) / (d.std() + 1e-8) for d in data]\n",
        "\n",
        "# 3) Color palette\n",
        "colors = plt.cm.Set2(np.linspace(0, 1, len(data_z)))\n",
        "\n",
        "# 4) Plot\n",
        "fig, ax = plt.subplots(figsize=(12, 5))\n",
        "parts = ax.violinplot(\n",
        "    data_z,\n",
        "    showmedians=True,\n",
        "    showextrema=False,\n",
        "    widths=0.7\n",
        ")\n",
        "\n",
        "# style\n",
        "for body, c in zip(parts['bodies'], colors):\n",
        "    body.set_facecolor(c)\n",
        "    body.set_edgecolor('black')\n",
        "    body.set_alpha(0.8)\n",
        "\n",
        "# annotate means\n",
        "for i, d in enumerate(data_z, start=1):\n",
        "    ax.scatter(i, np.mean(d), color='k', marker='D', s=30, zorder=3)\n",
        "\n",
        "ax.set_xticks(np.arange(1, len(labels)+1))\n",
        "ax.set_xticklabels(labels, rotation=45, ha='right')\n",
        "ax.set_ylabel('Z‑score of Weights')\n",
        "ax.set_title('Standardized Violin Plot of Model Weights')\n",
        "ax.grid(axis='y', linestyle='--', alpha=0.5)\n",
        "plt.tight_layout()\n",
        "plt.show()\n"
      ],
      "metadata": {
        "id": "btMpFasCKbey"
      },
      "execution_count": null,
      "outputs": []
    },
    {
      "cell_type": "code",
      "source": [
        "import numpy as np\n",
        "import pandas as pd\n",
        "\n",
        "# ——— replace these names with your actual History objects ———\n",
        "# qnn_history      = History from training your quantum‑inspired net\n",
        "# full_cnn_history = History from training the standard/full CNN\n",
        "# fair_cnn_history = History from training the “fair” CNN\n",
        "\n",
        "# compute per‑model averages\n",
        "summary = {\n",
        "    'Model':      ['QNN', 'full_CNN', 'fair_CNN'],\n",
        "    'Avg Loss':   [\n",
        "        np.mean(qnn_history.history['val_loss']),\n",
        "        np.mean(fullcnn_history.history['val_loss']),\n",
        "        np.mean(cnn_history.history['val_loss']),\n",
        "    ],\n",
        "    'Avg Accuracy': [\n",
        "        np.mean(qnn_history.history['val_hinge_accuracy']),\n",
        "        np.mean(fullcnn_history.history['val_accuracy']),\n",
        "        np.mean(cnn_history.history['val_accuracy']),\n",
        "    ]\n",
        "}\n",
        "\n",
        "df = pd.DataFrame(summary)\n",
        "# round for readability\n",
        "df['Avg Loss']      = df['Avg Loss'].round(4)\n",
        "df['Avg Accuracy']  = df['Avg Accuracy'].round(4)\n",
        "\n",
        "display(df)\n"
      ],
      "metadata": {
        "id": "xogB8hdR4Kec"
      },
      "execution_count": null,
      "outputs": []
    },
    {
      "cell_type": "code",
      "source": [
        "import matplotlib.pyplot as plt\n",
        "\n",
        "qnn_history.history['val_accuracy'] = qnn_history.history['val_hinge_accuracy']\n",
        "qnn_history.history['accuracy'] = qnn_history.history['hinge_accuracy']\n",
        "# —————————————————————————————————————————————————————————————————————————\n",
        "# Map a human‑readable name to each of your History objects\n",
        "histories = {\n",
        "    'Quantum QNN':   qnn_history,\n",
        "    'CNN (28×28)':   fullcnn_history,\n",
        "    'CNN (4×4)':     cnn_history,\n",
        "}\n",
        "# —————————————————————————————————————————————————————————————————————————\n",
        "\n",
        "# 1) Plot training & validation accuracies\n",
        "plt.figure(figsize=(10, 6))\n",
        "for name, h in histories.items():\n",
        "    plt.plot(h.history['accuracy'],   linestyle='--', label=f'{name} ▶ train')\n",
        "    plt.plot(h.history['val_accuracy'],   linestyle='--', label=f'{name} ▶ val')\n",
        "plt.title('Model Accuracies Over Epochs')\n",
        "plt.xlabel('Epoch')\n",
        "plt.ylabel('Accuracy')\n",
        "plt.legend(loc='lower right')\n",
        "plt.grid(alpha=0.3)\n",
        "plt.show()\n",
        "\n",
        "# 2) Plot training & validation losses\n",
        "plt.figure(figsize=(10, 6))\n",
        "for name, h in histories.items():\n",
        "    plt.plot(h.history['loss'],           label=f'{name} ▶ train')\n",
        "    plt.plot(h.history['val_loss'],       linestyle='--', label=f'{name} ▶ val')\n",
        "plt.title('Model Losses Over Epochs')\n",
        "plt.xlabel('Epoch')\n",
        "plt.ylabel('Loss')\n",
        "plt.legend(loc='upper right')\n",
        "plt.grid(alpha=0.3)\n",
        "plt.show()\n"
      ],
      "metadata": {
        "id": "MFDlC5ssus3r"
      },
      "execution_count": null,
      "outputs": []
    }
  ],
  "metadata": {
    "colab": {
      "private_outputs": true,
      "provenance": [],
      "machine_shape": "hm"
    },
    "kernelspec": {
      "display_name": "Python 3",
      "name": "python3"
    },
    "language_info": {
      "name": "python",
      "version": "3.10.9 (main, Dec  7 2022, 13:47:07) [GCC 12.2.0]"
    },
    "vscode": {
      "interpreter": {
        "hash": "916dbcbb3f70747c44a77c7bcd40155683ae19c65e1c03b4aa3499c5328201f1"
      }
    }
  },
  "nbformat": 4,
  "nbformat_minor": 0
}